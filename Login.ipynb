{
 "cells": [
  {
   "cell_type": "code",
   "execution_count": null,
   "metadata": {},
   "outputs": [],
   "source": [
    "import os\n",
    "import shutil\n",
    "import datetime\n",
    "import pandas as pd\n",
    "import numpy as np\n",
    "import time\n",
    "from selenium import webdriver\n",
    "from selenium.webdriver.common.keys import Keys\n",
    "from selenium.webdriver.chrome.options import Options\n",
    "from selenium.webdriver.common.by import By\n"
   ]
  },
  {
   "cell_type": "code",
   "execution_count": null,
   "metadata": {},
   "outputs": [],
   "source": [
    "### Set Browser\n",
    "#!apt-get update \n",
    "#!apt install chromium-chromedriver\n",
    "\n",
    "chrome_options = webdriver.ChromeOptions()\n",
    "#chrome_options.add_argument('--headless')\n",
    "chrome_options.add_argument('--no-sandbox')\n",
    "chrome_options.add_argument('--disable-dev-shm-usage')"
   ]
  },
  {
   "cell_type": "code",
   "execution_count": null,
   "metadata": {},
   "outputs": [],
   "source": [
    "driver = webdriver.Chrome('chromedriver',chrome_options=chrome_options)\n",
    "driver.get('https://www.linkedin.com/login')"
   ]
  },
  {
   "cell_type": "code",
   "execution_count": null,
   "metadata": {},
   "outputs": [],
   "source": [
    "# Find the username/\n",
    "username=''\n",
    "password=''\n",
    "\n",
    "uname = driver.find_element(\"id\", \"username\") \n",
    "uname.send_keys(username)\n",
    "\n",
    "# Find the password input field and send the password to the input field.\n",
    "pword = driver.find_element(\"id\", \"password\") \n",
    "pword.send_keys(password)\n",
    "time.sleep(3)\n",
    "\n",
    "driver.find_element(By.XPATH,'//*[@id=\"organic-div\"]/form/div[3]/button').click()\n"
   ]
  },
  {
   "cell_type": "code",
   "execution_count": null,
   "metadata": {},
   "outputs": [],
   "source": [
    "### Go to Job Search\n",
    "driver.find_element(By.XPATH,'//*[@id=\"global-nav\"]/div/nav/ul/li[3]/a').click()\n",
    "time.sleep(5)\n"
   ]
  },
  {
   "cell_type": "code",
   "execution_count": null,
   "metadata": {},
   "outputs": [],
   "source": [
    "#search Jobs : entry level data analyst easy apply job adds in Ireland\n",
    "driver.get('https://www.linkedin.com/jobs/search/?currentJobId=3135481518&f_AL=true&f_E=2&f_TPR=r604800&geoId=104738515&keywords=data%20analyst&location=Ireland')\n",
    "time.sleep(10)\n",
    "\n"
   ]
  },
  {
   "cell_type": "code",
   "execution_count": null,
   "metadata": {},
   "outputs": [],
   "source": [
    "links=[]\n",
    "for page in range(2,5):\n",
    "    time.sleep(2)\n",
    "    jobs_block = driver.find_element(By.CLASS_NAME,'scaffold-layout__list-container')\n",
    "    #jobs_list= jobs_block.find_elements(By.CSS_SELECTOR, '.scaffold-layout__list-container-item')\n",
    "    all_links = driver.find_elements(By.TAG_NAME,'a')\n",
    "    for a in all_links:\n",
    "        if str(a.get_attribute('href')).startswith(\"https://www.linkedin.com/jobs/view/\") and a.get_attribute('href') not in links: \n",
    "            print(a.get_attribute('href'))\n",
    "            links.append(a.get_attribute('href'))\n",
    "        else:\n",
    "            pass\n",
    "        # scroll down for each job element\n",
    "    driver.execute_script(\"arguments[0].scrollIntoView();\", jobs_block)\n",
    "    \n",
    "    print(f'Collecting the links in the page: {page-1}')\n",
    "    # go to next page:\n",
    "    try:\n",
    "        driver.find_element(By.XPATH,f\"//button[@aria-label='Page {page}']\").click()\n",
    "    except:\n",
    "        page=6\n",
    "        pass\n",
    "time.sleep(3)"
   ]
  },
  {
   "cell_type": "code",
   "execution_count": null,
   "metadata": {},
   "outputs": [],
   "source": [
    "print(links)"
   ]
  },
  {
   "cell_type": "code",
   "execution_count": null,
   "metadata": {},
   "outputs": [],
   "source": [
    "# Create empty lists to store information\n",
    "job_titles = []\n",
    "company_names = []\n",
    "company_locations = []\n",
    "work_methods = []\n",
    "post_dates = []\n",
    "work_times = [] \n",
    "job_desc = []\n",
    "\n",
    "i = 0\n",
    "j = 1\n",
    "# Visit each link one by one to scrape the information\n",
    "print('Visiting the links and collecting information just started.')\n",
    "for i in range(len(links)):\n",
    "    try:\n",
    "        driver.get(links[i])\n",
    "        i=i+1\n",
    "        time.sleep(2)\n",
    "        # Click See more.\n",
    "        driver.find_element(By.XPATH,'//*[@id=\"ember32\"]').click()\n",
    "        time.sleep(2)\n",
    "    except:\n",
    "        pass\n",
    "    \n",
    "    # Find the general information of the job offer\n",
    "    # Used try, except in case there is some missing information for some of the job offers\n",
    "    contents = driver.find_elements(By.CLASS_NAME,'p5')\n",
    "    for content in contents:\n",
    "        try:\n",
    "            job_titles.append(content.find_element(By.TAG_NAME,\"h1\").text)\n",
    "            company_names.append(content.find_element(By.CLASS_NAME,\"jobs-unified-top-card__company-name\").text)\n",
    "            company_locations.append(content.find_element(By.CLASS_NAME,\"jobs-unified-top-card__bullet\").text)\n",
    "            work_methods.append(content.find_element(By.CLASS_NAME,\"jobs-unified-top-card__workplace-type\").text)\n",
    "            post_dates.append(content.find_element(By.CLASS_NAME,\"jobs-unified-top-card__posted-date\").text)\n",
    "            work_times.append(content.find_element(By.CLASS_NAME,\"jobs-unified-top-card__job-insight\").text)\n",
    "            print(f'Scraping the Job Offer {j} DONE.')\n",
    "            j+= 1\n",
    "            \n",
    "        except:\n",
    "            pass\n",
    "        time.sleep(2)\n",
    "        \n",
    "        # Scraping the job description\n",
    "    job_description = driver.find_elements(By.CLASS_NAME,'jobs-description__content')\n",
    "    for description in job_description:\n",
    "        job_text = description.find_element(By.CLASS_NAME,\"jobs-box__html-content\").text\n",
    "        job_desc.append(job_text)\n",
    "        print(f'Scraping the Job Offer {j}')\n",
    "        time.sleep(2)"
   ]
  },
  {
   "cell_type": "code",
   "execution_count": null,
   "metadata": {},
   "outputs": [],
   "source": [
    "df = pd.DataFrame(list(zip(job_titles,company_names,\n",
    "                    company_locations,work_methods,\n",
    "                    post_dates,work_times)),\n",
    "                    columns =['job_title', 'company_name',\n",
    "                           'company_location','work_method',\n",
    "                           'post_date','work_time'])\n"
   ]
  },
  {
   "cell_type": "code",
   "execution_count": null,
   "metadata": {},
   "outputs": [],
   "source": [
    "df.head(10)"
   ]
  },
  {
   "cell_type": "code",
   "execution_count": null,
   "metadata": {},
   "outputs": [],
   "source": [
    "driver.quit()"
   ]
  },
  {
   "cell_type": "code",
   "execution_count": null,
   "metadata": {},
   "outputs": [],
   "source": []
  },
  {
   "cell_type": "code",
   "execution_count": null,
   "metadata": {},
   "outputs": [],
   "source": []
  },
  {
   "cell_type": "code",
   "execution_count": null,
   "metadata": {},
   "outputs": [],
   "source": []
  },
  {
   "cell_type": "code",
   "execution_count": null,
   "metadata": {},
   "outputs": [],
   "source": []
  },
  {
   "cell_type": "code",
   "execution_count": null,
   "metadata": {},
   "outputs": [],
   "source": []
  },
  {
   "cell_type": "code",
   "execution_count": null,
   "metadata": {},
   "outputs": [],
   "source": []
  },
  {
   "cell_type": "code",
   "execution_count": null,
   "metadata": {},
   "outputs": [],
   "source": []
  },
  {
   "cell_type": "code",
   "execution_count": null,
   "metadata": {},
   "outputs": [],
   "source": []
  },
  {
   "cell_type": "code",
   "execution_count": null,
   "metadata": {},
   "outputs": [],
   "source": []
  },
  {
   "cell_type": "code",
   "execution_count": null,
   "metadata": {},
   "outputs": [],
   "source": []
  },
  {
   "cell_type": "code",
   "execution_count": null,
   "metadata": {},
   "outputs": [],
   "source": [
    "#driver.quit()"
   ]
  },
  {
   "cell_type": "code",
   "execution_count": null,
   "metadata": {},
   "outputs": [],
   "source": []
  },
  {
   "cell_type": "code",
   "execution_count": null,
   "metadata": {},
   "outputs": [],
   "source": []
  },
  {
   "cell_type": "code",
   "execution_count": null,
   "metadata": {},
   "outputs": [],
   "source": []
  },
  {
   "cell_type": "code",
   "execution_count": null,
   "metadata": {},
   "outputs": [],
   "source": []
  },
  {
   "cell_type": "code",
   "execution_count": null,
   "metadata": {},
   "outputs": [],
   "source": []
  },
  {
   "cell_type": "code",
   "execution_count": null,
   "metadata": {},
   "outputs": [],
   "source": []
  },
  {
   "cell_type": "code",
   "execution_count": null,
   "metadata": {},
   "outputs": [],
   "source": []
  }
 ],
 "metadata": {
  "kernelspec": {
   "display_name": "Python 3",
   "language": "python",
   "name": "python3"
  },
  "language_info": {
   "codemirror_mode": {
    "name": "ipython",
    "version": 3
   },
   "file_extension": ".py",
   "mimetype": "text/x-python",
   "name": "python",
   "nbconvert_exporter": "python",
   "pygments_lexer": "ipython3",
   "version": "3.7.6"
  }
 },
 "nbformat": 4,
 "nbformat_minor": 4
}
